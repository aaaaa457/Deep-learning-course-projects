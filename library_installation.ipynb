{
 "cells": [
  {
   "cell_type": "markdown",
   "id": "2c8bc7b4",
   "metadata": {},
   "source": [
    "## 安装库"
   ]
  },
  {
   "cell_type": "markdown",
   "id": "619e64f2",
   "metadata": {},
   "source": [
    "需要安装的库：torchaudio torchvision transformers>=4.25.1 diffusers accelerate ftfy Pillow datasets opencv-python "
   ]
  },
  {
   "cell_type": "code",
   "execution_count": null,
   "id": "46bf109d",
   "metadata": {},
   "outputs": [],
   "source": [
    "pip install torchaudio  --upgrade pip -i https://mirrors.aliyun.com/pypi/simple/"
   ]
  },
  {
   "cell_type": "code",
   "execution_count": null,
   "id": "685c31d2",
   "metadata": {},
   "outputs": [],
   "source": [
    "pip install --upgrade torch==2.5.1  --upgrade pip torchvision torchtext torchdata -i https://mirrors.aliyun.com/pypi/simple/"
   ]
  },
  {
   "cell_type": "code",
   "execution_count": null,
   "id": "c2ebdd12",
   "metadata": {},
   "outputs": [],
   "source": [
    "pip install transformers  --upgrade pip -i https://mirrors.aliyun.com/pypi/simple/"
   ]
  },
  {
   "cell_type": "code",
   "execution_count": null,
   "id": "a20eb630",
   "metadata": {},
   "outputs": [],
   "source": [
    "pip install diffusers  --upgrade pip -i https://mirrors.aliyun.com/pypi/simple/"
   ]
  },
  {
   "cell_type": "code",
   "execution_count": null,
   "id": "f0d8bf94",
   "metadata": {},
   "outputs": [],
   "source": [
    "pip install accelerate  --upgrade pip -i https://mirrors.aliyun.com/pypi/simple/"
   ]
  },
  {
   "cell_type": "code",
   "execution_count": null,
   "id": "b3a153a5",
   "metadata": {},
   "outputs": [],
   "source": [
    "pip install ftfy  --upgrade pip -i https://mirrors.aliyun.com/pypi/simple/"
   ]
  },
  {
   "cell_type": "code",
   "execution_count": null,
   "id": "a0043950",
   "metadata": {},
   "outputs": [],
   "source": [
    "pip install Pillow  --upgrade pip -i https://mirrors.aliyun.com/pypi/simple/"
   ]
  },
  {
   "cell_type": "code",
   "execution_count": null,
   "id": "cd00626a",
   "metadata": {},
   "outputs": [],
   "source": [
    "pip install datasets  --upgrade pip -i https://mirrors.aliyun.com/pypi/simple/"
   ]
  },
  {
   "cell_type": "markdown",
   "id": "f6acead3",
   "metadata": {},
   "source": [
    "有些繁琐的cv2库的安装"
   ]
  },
  {
   "cell_type": "code",
   "execution_count": null,
   "id": "76bce5a2",
   "metadata": {},
   "outputs": [],
   "source": [
    "pip install opencv-python --upgrade -i https://mirrors.aliyun.com/pypi/simple/"
   ]
  },
  {
   "cell_type": "code",
   "execution_count": null,
   "id": "b49e8e4a",
   "metadata": {},
   "outputs": [],
   "source": [
    "pip install opencv-python-headless --upgrade -i https://mirrors.aliyun.com/pypi/simple/"
   ]
  },
  {
   "cell_type": "code",
   "execution_count": null,
   "id": "89945acf",
   "metadata": {},
   "outputs": [],
   "source": [
    "pip install opencv-fixer==0.2.5"
   ]
  },
  {
   "cell_type": "code",
   "execution_count": null,
   "id": "e6f346e4",
   "metadata": {},
   "outputs": [],
   "source": [
    "from opencv_fixer import AutoFix\n",
    "AutoFix()"
   ]
  },
  {
   "cell_type": "code",
   "execution_count": null,
   "id": "e476e5de",
   "metadata": {},
   "outputs": [],
   "source": [
    "pip install opencv-python --upgrade -i https://mirrors.aliyun.com/pypi/simple/"
   ]
  },
  {
   "cell_type": "code",
   "execution_count": null,
   "id": "43f2109a",
   "metadata": {},
   "outputs": [],
   "source": [
    "pip install opencv-python-headless --upgrade -i https://mirrors.aliyun.com/pypi/simple/"
   ]
  },
  {
   "cell_type": "markdown",
   "id": "4938a81d",
   "metadata": {},
   "source": [
    "检查安装的所有库"
   ]
  },
  {
   "cell_type": "code",
   "execution_count": null,
   "id": "011e41ea",
   "metadata": {},
   "outputs": [
    {
     "name": "stdout",
     "output_type": "stream",
     "text": [
      "Package                  Version\n",
      "------------------------ --------------------\n",
      "absl-py                  1.4.0\n",
      "accelerate               1.2.1\n",
      "aiohttp                  3.8.4\n",
      "aiosignal                1.3.1\n",
      "apex                     0.1\n",
      "argon2-cffi              21.3.0\n",
      "argon2-cffi-bindings     21.2.0\n",
      "asttokens                2.2.1\n",
      "astunparse               1.6.3\n",
      "async-timeout            4.0.2\n",
      "attrs                    23.1.0\n",
      "audioread                3.0.0\n",
      "backcall                 0.2.0\n",
      "beautifulsoup4           4.12.2\n",
      "bleach                   6.0.0\n",
      "blis                     0.7.9\n",
      "cachetools               5.3.0\n",
      "catalogue                2.0.8\n",
      "certifi                  2022.12.7\n",
      "cffi                     1.15.1\n",
      "charset-normalizer       3.1.0\n",
      "click                    8.1.3\n",
      "cloudpickle              2.2.1\n",
      "cmake                    3.24.1.1\n",
      "comm                     0.1.3\n",
      "confection               0.0.4\n",
      "contourpy                1.0.7\n",
      "cubinlinker              0.2.2+2.g2f92cb3\n",
      "cuda-python              12.1.0rc5+1.gcdeccdd\n",
      "cudf                     23.4.0\n",
      "cugraph                  23.4.0\n",
      "cugraph-dgl              23.4.0\n",
      "cugraph-service-client   23.4.0\n",
      "cugraph-service-server   23.4.0\n",
      "cuml                     23.4.0\n",
      "cupy-cuda12x             12.0.0b3\n",
      "cycler                   0.11.0\n",
      "cymem                    2.0.7\n",
      "Cython                   0.29.34\n",
      "dask                     2023.3.2\n",
      "dask-cuda                23.4.0\n",
      "dask-cudf                23.4.0\n",
      "datasets                 3.2.0\n",
      "debugpy                  1.6.7\n",
      "decorator                5.1.1\n",
      "defusedxml               0.7.1\n",
      "diffusers                0.32.1\n",
      "dill                     0.3.8\n",
      "distributed              2023.3.2.1\n",
      "einops                   0.6.1\n",
      "exceptiongroup           1.1.1\n",
      "execnet                  1.9.0\n",
      "executing                1.2.0\n",
      "expecttest               0.1.3\n",
      "fastjsonschema           2.16.3\n",
      "fastrlock                0.8.1\n",
      "filelock                 3.12.0\n",
      "flash-attn               1.0.5\n",
      "fonttools                4.39.3\n",
      "frozenlist               1.3.3\n",
      "fsspec                   2024.9.0\n",
      "ftfy                     6.3.1\n",
      "gast                     0.4.0\n",
      "google-auth              2.18.1\n",
      "google-auth-oauthlib     0.4.6\n",
      "graphsurgeon             0.4.6\n",
      "grpcio                   1.54.2\n",
      "huggingface-hub          0.27.1\n",
      "hypothesis               5.35.1\n",
      "idna                     3.4\n",
      "importlib-metadata       6.6.0\n",
      "iniconfig                2.0.0\n",
      "intel-openmp             2021.4.0\n",
      "ipykernel                6.23.1\n",
      "ipython                  8.13.2\n",
      "ipython-genutils         0.2.0\n",
      "ipywidgets               8.0.6\n",
      "jedi                     0.18.2\n",
      "Jinja2                   3.1.2\n",
      "joblib                   1.2.0\n",
      "json5                    0.9.14\n",
      "jsonschema               4.17.3\n",
      "jupyter                  1.0.0\n",
      "jupyter_client           8.2.0\n",
      "jupyter-console          6.6.3\n",
      "jupyter_core             5.3.0\n",
      "jupyter-tensorboard      0.2.0\n",
      "jupyterlab               2.3.2\n",
      "jupyterlab-pygments      0.2.2\n",
      "jupyterlab-server        1.2.0\n",
      "jupyterlab-widgets       3.0.7\n",
      "jupytext                 1.14.5\n",
      "kiwisolver               1.4.4\n",
      "langcodes                3.3.0\n",
      "librosa                  0.9.2\n",
      "lit                      16.0.5\n",
      "llvmlite                 0.39.1\n",
      "locket                   1.0.0\n",
      "Markdown                 3.4.3\n",
      "markdown-it-py           2.2.0\n",
      "MarkupSafe               2.1.2\n",
      "matplotlib               3.7.1\n",
      "matplotlib-inline        0.1.6\n",
      "mdit-py-plugins          0.3.5\n",
      "mdurl                    0.1.2\n",
      "mistune                  2.0.5\n",
      "mkl                      2021.1.1\n",
      "mkl-devel                2021.1.1\n",
      "mkl-include              2021.1.1\n",
      "mock                     5.0.2\n",
      "mpmath                   1.3.0\n",
      "msgpack                  1.0.5\n",
      "multidict                6.0.4\n",
      "multiprocess             0.70.16\n",
      "murmurhash               1.0.9\n",
      "nbclient                 0.7.4\n",
      "nbconvert                7.4.0\n",
      "nbformat                 5.8.0\n",
      "nest-asyncio             1.5.6\n",
      "networkx                 2.6.3\n",
      "ninja                    1.11.1\n",
      "notebook                 6.4.10\n",
      "numba                    0.56.4+1.g48c75e48f\n",
      "numpy                    1.22.2\n",
      "nvidia-cublas-cu12       12.4.5.8\n",
      "nvidia-cuda-cupti-cu12   12.4.127\n",
      "nvidia-cuda-nvrtc-cu12   12.4.127\n",
      "nvidia-cuda-runtime-cu12 12.4.127\n",
      "nvidia-cudnn-cu12        9.1.0.70\n",
      "nvidia-cufft-cu12        11.2.1.3\n",
      "nvidia-curand-cu12       10.3.5.147\n",
      "nvidia-cusolver-cu12     11.6.1.9\n",
      "nvidia-cusparse-cu12     12.3.1.170\n",
      "nvidia-dali-cuda120      1.25.0\n",
      "nvidia-nccl-cu12         2.21.5\n",
      "nvidia-nvjitlink-cu12    12.4.127\n",
      "nvidia-nvtx-cu12         12.4.127\n",
      "nvidia-pyindex           1.0.9\n",
      "nvtx                     0.2.5\n",
      "oauthlib                 3.2.2\n",
      "onnx                     1.13.1rc2\n",
      "opencv                   4.6.0\n",
      "packaging                23.1\n",
      "pandas                   1.5.2\n",
      "pandocfilters            1.5.0\n",
      "parso                    0.8.3\n",
      "partd                    1.4.0\n",
      "pathy                    0.10.1\n",
      "pexpect                  4.8.0\n",
      "pickleshare              0.7.5\n",
      "pillow                   11.1.0\n",
      "pip                      24.3.1\n",
      "platformdirs             3.5.1\n",
      "pluggy                   1.0.0\n",
      "ply                      3.11\n",
      "polygraphy               0.47.1\n",
      "pooch                    1.7.0\n",
      "preshed                  3.0.8\n",
      "prettytable              3.7.0\n",
      "prometheus-client        0.16.0\n",
      "prompt-toolkit           3.0.38\n",
      "protobuf                 3.20.3\n",
      "psutil                   5.9.4\n",
      "ptxcompiler              0.7.0+27.g601c71a\n",
      "ptyprocess               0.7.0\n",
      "pure-eval                0.2.2\n",
      "pyarrow                  18.1.0\n",
      "pyasn1                   0.5.0\n",
      "pyasn1-modules           0.3.0\n",
      "pybind11                 2.10.4\n",
      "pycocotools              2.0+nv0.7.3\n",
      "pycparser                2.21\n",
      "pydantic                 1.10.7\n",
      "Pygments                 2.15.1\n",
      "pylibcugraph             23.4.0\n",
      "pylibcugraphops          23.4.0\n",
      "pylibraft                23.4.0\n",
      "pynvml                   11.4.1\n",
      "pyparsing                3.0.9\n",
      "pyrsistent               0.19.3\n",
      "pytest                   7.3.1\n",
      "pytest-rerunfailures     11.1.2\n",
      "pytest-shard             0.1.2\n",
      "pytest-xdist             3.3.1\n",
      "python-dateutil          2.8.2\n",
      "python-hostlist          1.23.0\n",
      "pytorch-quantization     2.1.2\n",
      "pytz                     2023.3\n",
      "PyYAML                   6.0\n",
      "pyzmq                    25.0.2\n",
      "qtconsole                5.4.3\n",
      "QtPy                     2.3.1\n",
      "raft-dask                23.4.0\n",
      "regex                    2023.5.5\n",
      "requests                 2.32.3\n",
      "requests-oauthlib        1.3.1\n",
      "resampy                  0.4.2\n",
      "rmm                      23.4.0\n",
      "rsa                      4.9\n",
      "safetensors              0.5.2\n",
      "scikit-learn             1.2.0\n",
      "scipy                    1.10.1\n",
      "seaborn                  0.12.2\n",
      "Send2Trash               1.8.2\n",
      "setuptools               65.5.1\n",
      "six                      1.16.0\n",
      "smart-open               6.3.0\n",
      "sortedcontainers         2.4.0\n",
      "soundfile                0.12.1\n",
      "soupsieve                2.4.1\n",
      "spacy                    3.5.3\n",
      "spacy-legacy             3.0.12\n",
      "spacy-loggers            1.0.4\n",
      "sphinx-glpi-theme        0.3\n",
      "srsly                    2.4.6\n",
      "stack-data               0.6.2\n",
      "sympy                    1.13.1\n",
      "tabulate                 0.9.0\n",
      "tbb                      2021.9.0\n",
      "tblib                    1.7.0\n",
      "tensorboard              2.9.0\n",
      "tensorboard-data-server  0.6.1\n",
      "tensorboard-plugin-wit   1.8.1\n",
      "tensorrt                 8.6.1\n",
      "terminado                0.17.1\n",
      "thinc                    8.1.10\n",
      "threadpoolctl            3.1.0\n",
      "thriftpy2                0.4.16\n",
      "tinycss2                 1.2.1\n",
      "tokenizers               0.21.0\n",
      "toml                     0.10.2\n",
      "tomli                    2.0.1\n",
      "toolz                    0.12.0\n",
      "torch                    2.5.1\n",
      "torch-tensorrt           1.4.0.dev0\n",
      "torchaudio               2.5.1\n",
      "torchdata                0.10.1\n",
      "torchtext                0.18.0\n",
      "torchvision              0.20.1\n",
      "tornado                  6.3.1\n",
      "tqdm                     4.67.1\n",
      "traitlets                5.9.0\n",
      "transformer-engine       0.8.0\n",
      "transformers             4.47.1\n",
      "treelite                 3.2.0\n",
      "treelite-runtime         3.2.0\n",
      "triton                   3.1.0\n",
      "typer                    0.7.0\n",
      "types-dataclasses        0.6.6\n",
      "typing_extensions        4.12.2\n",
      "ucx-py                   0.31.0\n",
      "uff                      0.6.9\n",
      "urllib3                  1.26.15\n",
      "wasabi                   1.1.1\n",
      "wcwidth                  0.2.6\n",
      "webencodings             0.5.1\n",
      "Werkzeug                 2.3.4\n",
      "wheel                    0.40.0\n",
      "widgetsnbextension       4.0.7\n",
      "xdoctest                 1.0.2\n",
      "xgboost                  1.7.5\n",
      "xxhash                   3.5.0\n",
      "yarl                     1.9.2\n",
      "zict                     3.0.0\n",
      "zipp                     3.15.0\n"
     ]
    },
    {
     "name": "stdout",
     "output_type": "stream",
     "text": [
      "Note: you may need to restart the kernel to use updated packages.\n"
     ]
    }
   ],
   "source": [
    "pip list  #检查安装版本"
   ]
  }
 ],
 "metadata": {
  "kernelspec": {
   "display_name": "Python 3 (ipykernel)",
   "language": "python",
   "name": "python3"
  },
  "language_info": {
   "codemirror_mode": {
    "name": "ipython",
    "version": 3
   },
   "file_extension": ".py",
   "mimetype": "text/x-python",
   "name": "python",
   "nbconvert_exporter": "python",
   "pygments_lexer": "ipython3",
   "version": "3.10.9"
  }
 },
 "nbformat": 4,
 "nbformat_minor": 5
}
